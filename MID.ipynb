{
  "nbformat": 4,
  "nbformat_minor": 0,
  "metadata": {
    "colab": {
      "provenance": []
    },
    "kernelspec": {
      "name": "python3",
      "display_name": "Python 3"
    },
    "language_info": {
      "name": "python"
    }
  },
  "cells": [
    {
      "cell_type": "code",
      "execution_count": 2,
      "metadata": {
        "colab": {
          "base_uri": "https://localhost:8080/"
        },
        "id": "O_b-pV9a-uWg",
        "outputId": "0522b925-d791-48ad-c0ed-c95ae3558a85"
      },
      "outputs": [
        {
          "output_type": "stream",
          "name": "stdout",
          "text": [
            "Enter no of processes:4\n",
            "Enter arrival time for p1:0\n",
            "Enter burst time for p1:6\n",
            "Enter arrival time for p2:1\n",
            "Enter burst time for p2:8\n",
            "Enter arrival time for p3:2\n",
            "Enter burst time for p3:7\n",
            "Enter arrival time for p4:3\n",
            "Enter burst time for p4:3\n",
            "\n",
            "PID\tAT\tBT\tCT\tTAT\tWT\n",
            "p1\t0\t6\t6\t6\t0\n",
            "p2\t1\t8\t24\t23\t15\n",
            "p3\t2\t7\t16\t14\t7\n",
            "p4\t3\t3\t9\t6\t3\n",
            "Average Waiting Time: 6.25\n",
            "Average Turnaround Time: 12.25\n"
          ]
        }
      ],
      "source": [
        "n=int(input(\"Enter no of processes:\"))\n",
        "processes=[]\n",
        "for i in range(n):\n",
        "  pid = f'p{i+1}'\n",
        "  at=int(input(f\"Enter arrival time for {pid}:\"))\n",
        "  bt=int(input(f\"Enter burst time for {pid}:\"))\n",
        "  processes.append({'PID':pid,'AT':at,'BT':bt})\n",
        "\n",
        "time = 0\n",
        "completed=[]\n",
        "while len(completed) < n:\n",
        "    ready = [p for p in processes if p['AT'] <= time and 'CT' not in p]\n",
        "    if not ready:\n",
        "        time += 1\n",
        "        continue\n",
        "    current = min(ready, key=lambda x: x['BT'])\n",
        "    time += current['BT']\n",
        "    current['CT'] = time\n",
        "    current['TAT'] = current['CT'] - current['AT']\n",
        "    current['WT'] = current['TAT'] - current['BT']\n",
        "    completed.append(current)\n",
        "\n",
        "\n",
        "print(\"\\nPID\\tAT\\tBT\\tCT\\tTAT\\tWT\")\n",
        "total_WT = total_tat = 0\n",
        "for p in processes:\n",
        "  print(f\"{p['PID']}\\t{p['AT']}\\t{p['BT']}\\t{p['CT']}\\t{p['TAT']}\\t{p['WT']}\")\n",
        "  total_WT+=p['WT']\n",
        "  total_tat+=p['TAT']\n",
        "print(f\"Average Waiting Time: {total_WT/n}\")\n",
        "print(f\"Average Turnaround Time: {total_tat/n}\")\n",
        "\n"
      ]
    },
    {
      "cell_type": "code",
      "source": [
        "\n",
        "requests = list(map(int, input(\"Enter the disk requests: \").split()))\n",
        "requests.sort()\n",
        "print(\"sorted requests: \",requests)\n",
        "head = int(input(\"Enter head value : \"))\n",
        "\n",
        "total_mov = 0\n",
        "Sequence=[]\n",
        "while requests:\n",
        "  requests.sort(key=lambda X: abs(X-head))\n",
        "  closest = requests.pop(0)\n",
        "  total_mov += abs(head-closest)\n",
        "  head = closest\n",
        "\n",
        "  Sequence.append(head)\n",
        "\n",
        "print (\"Total head mov: \",total_mov)"
      ],
      "metadata": {
        "colab": {
          "base_uri": "https://localhost:8080/"
        },
        "id": "QrIzVYbqO6Zu",
        "outputId": "e1463cde-aec4-4f7c-ffd3-9c85b775027b"
      },
      "execution_count": 7,
      "outputs": [
        {
          "output_type": "stream",
          "name": "stdout",
          "text": [
            "Enter the disk requests: 98 183 37 122 14 124 65 67\n",
            "sorted requests:  [14, 37, 65, 67, 98, 122, 124, 183]\n",
            "Enter head value : 53\n",
            "Total head mov:  236\n"
          ]
        }
      ]
    }
  ]
}